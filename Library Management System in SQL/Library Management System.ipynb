{
 "cells": [
  {
   "cell_type": "code",
   "execution_count": 7,
   "metadata": {},
   "outputs": [],
   "source": [
    "import sqlite3"
   ]
  },
  {
   "cell_type": "code",
   "execution_count": 8,
   "metadata": {},
   "outputs": [],
   "source": [
    "connection = sqlite3.connect(\"Library.db\")\n",
    "sql = connection.cursor()\n",
    "\n",
    "# We will be creating table for book details , student details, transaction details\n",
    "sql.execute(\"\"\"DROP TABLE book_details \"\"\")\n",
    "sql.execute(\"\"\"DROP TABLE student_details \"\"\")\n",
    "sql.execute(\"\"\"DROP TABLE transaction_details \"\"\")\n",
    "\n",
    "sql.execute(\"\"\"CREATE TABLE book_details(\n",
    "            book_name VARCHAR(30),\n",
    "            author_name VARCHAR(30),\n",
    "            book_price VARCHAR(30)\n",
    ")  \"\"\")\n",
    "\n",
    "sql.execute(\"\"\"CREATE TABLE student_details(\n",
    "            student_name VARCHAR(30),\n",
    "            student_reg_no VARCHAR(10)\n",
    ") \"\"\")\n",
    "\n",
    "sql.execute(\"\"\"CREATE TABLE transaction_details(\n",
    "            transaction_ID VARCHAR(10),\n",
    "            transaction_date VARCHAR(10),\n",
    "            transaction_amount INT\n",
    ") \"\"\")\n",
    "\n",
    "connection.commit()"
   ]
  },
  {
   "cell_type": "code",
   "execution_count": 9,
   "metadata": {},
   "outputs": [],
   "source": [
    "# Insertion Functions\n",
    "def insert_book_details():\n",
    "    book_name = input(\"Enter the book name \")\n",
    "    author_name = input(\"Enter the name of the author \" )\n",
    "    book_price = input(\"Enter the Price of the book \")\n",
    "\n",
    "    sql.execute(\"INSERT INTO book_details VALUES (?, ?, ?)\", (book_name, author_name, book_price))\n",
    "    connection.commit()\n",
    "    print(\"Insertion to book Completed\")\n",
    "\n",
    "def insert_student_details():\n",
    "    student_name = input(\"Enter the name of the student: \")\n",
    "    student_reg_no = input(\"Enter the Reg no of the student: \")\n",
    "\n",
    "    sql.execute(\"INSERT INTO student_details VALUES (?, ?)\", (student_name, student_reg_no))\n",
    "    connection.commit()\n",
    "    print(\"Insertion to student completed\")\n",
    "\n",
    "def insert_transaction_details():\n",
    "    transaction_ID = input(\"Enter the transaction ID \")\n",
    "    transaction_date = input(\"Enter the Date of transaction\")\n",
    "    transaction_amount = input(\"Enter the amount of transaction\")\n",
    "\n",
    "    sql.execute(\"INSERT INTO transaction_details(?, ?, ?)\", (transaction_ID, transaction_date, transaction_amount))\n",
    "    connection.commit()\n",
    "    print(\"Insertion to transaction details completed \")\n"
   ]
  },
  {
   "cell_type": "code",
   "execution_count": null,
   "metadata": {},
   "outputs": [],
   "source": [
    "def display_book_details(input_book_name):\n",
    "    if input_book_name.upper() == \"ALL\":\n",
    "        sql.execute(\"SELECT * FROM book_details\")\n",
    "    else:\n",
    "        sql.execute(\"SELECT * FROM book_details WHERE book_name = ?\", (input_book_name,))\n",
    "    \n",
    "    result = sql.fetchall()\n",
    "    print(result)\n",
    "\n",
    "def display_student_details(input_reg_no):\n",
    "    if input_reg_no.upper() == \"ALL\":\n",
    "        sql.execute(\"SELECT * FROM student_details\")\n",
    "    else:\n",
    "        sql.execute(\"SELECT * FROM student_details WHERE student_reg_no = ?\", (input_reg_no,))\n",
    "    \n",
    "    result = sql.fetchall()\n",
    "    print(result)\n",
    "\n",
    "def display_transaction_details(input_transaction_ID):\n",
    "    if input_transaction_ID.upper() == ALL:\n",
    "        sql.execute(\"SELECT * FROM transaction_details\")\n",
    "    else:\n",
    "        sql.execute(\"SELECT * FROM transaction_details WHERE tansaction_ID = ?\", (input_transaction_ID))\n",
    "    \n",
    "    result = sql.fetchall()\n",
    "    print(result)"
   ]
  },
  {
   "cell_type": "code",
   "execution_count": 10,
   "metadata": {},
   "outputs": [
    {
     "name": "stdout",
     "output_type": "stream",
     "text": [
      "What do you want to perform\n",
      "      Press the NUmber for that operation\n",
      "      1. Add Book details\n",
      "      2. Add Student details\n",
      "      3. Add Transaction details\n",
      "\n",
      "Insertion to book Completed\n"
     ]
    }
   ],
   "source": [
    "print(\"\"\"What do you want to perform\n",
    "      Press the Number for that operation\n",
    "      1. Insert Details about Student Book or Transaction\n",
    "      2. To fetch DEtails about Student Book or Transaction\n",
    "      3. To update Transaction Details\\n\"\"\")\n",
    "\n",
    "user_input = int(input(\"Enter your choice :- \"))  \n",
    "\n",
    "if(user_input == 1)\n",
    "if (user_input == 1):\n",
    "    insert_book_details()\n",
    "elif (user_input == 2):\n",
    "    insert_student_details()\n",
    "elif (user_input == 3):\n",
    "    insert_transaction_details()"
   ]
  }
 ],
 "metadata": {
  "kernelspec": {
   "display_name": "Python 3",
   "language": "python",
   "name": "python3"
  },
  "language_info": {
   "codemirror_mode": {
    "name": "ipython",
    "version": 3
   },
   "file_extension": ".py",
   "mimetype": "text/x-python",
   "name": "python",
   "nbconvert_exporter": "python",
   "pygments_lexer": "ipython3",
   "version": "3.10.6"
  }
 },
 "nbformat": 4,
 "nbformat_minor": 2
}
